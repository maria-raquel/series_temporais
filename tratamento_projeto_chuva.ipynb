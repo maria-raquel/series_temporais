{
  "nbformat": 4,
  "nbformat_minor": 0,
  "metadata": {
    "colab": {
      "name": "tratamento_projeto_chuva.ipynb",
      "provenance": []
    },
    "kernelspec": {
      "name": "python3",
      "display_name": "Python 3"
    },
    "language_info": {
      "name": "python"
    }
  },
  "cells": [
    {
      "cell_type": "markdown",
      "metadata": {
        "id": "a96WELzFA98V"
      },
      "source": [
        "# **TRATAMENTO DOS DADOS: PROJETO CHUVA**"
      ]
    },
    {
      "cell_type": "markdown",
      "metadata": {
        "id": "BBbnyyWhuy76"
      },
      "source": [
        "INFORMAÇÕES DO DATASET \n",
        "\n",
        "http://www.hidrologia.daee.sp.gov.br/\n",
        "\n",
        "http://www.daee.sp.gov.br/site/\n",
        "\n",
        "PREFIXO: \tE3-262\n",
        "\n",
        "NOME DO POSTO: \tGUARAU\n",
        "\n",
        "MUNICÍPIO: \tSAO PAULO\t\n",
        "\n",
        "CURSO D'ÁGUA: \tCABUCU DE BAIXO,R/(ITAGUACU,COR)\n",
        "\n",
        "LATITUDE: \t23°26'33\"\n",
        "\n",
        "LONGITUDE: \t46°39'01\"\n",
        "\n",
        "DADOS DE 1985 A 2021"
      ]
    },
    {
      "cell_type": "code",
      "metadata": {
        "id": "A5yMS5nI9uYM"
      },
      "source": [
        "import numpy as np\n",
        "import pandas as pd"
      ],
      "execution_count": null,
      "outputs": []
    },
    {
      "cell_type": "markdown",
      "metadata": {
        "id": "x8vp1QN89svn"
      },
      "source": [
        "## **Análise e Tratamento Inicial**"
      ]
    },
    {
      "cell_type": "code",
      "metadata": {
        "id": "kgcirDASxITd"
      },
      "source": [
        "chuva = pd.read_csv('/content/drive/MyDrive/Cursos_Udemy/series_temporais_PYTHON/E3-262_Chuva_Mensal.csv',\n",
        "                    sep=';')"
      ],
      "execution_count": null,
      "outputs": []
    },
    {
      "cell_type": "code",
      "metadata": {
        "id": "C8AHlNaszHGw"
      },
      "source": [
        "chuva.head()"
      ],
      "execution_count": null,
      "outputs": []
    },
    {
      "cell_type": "code",
      "metadata": {
        "id": "nE3vAeHI0u-r"
      },
      "source": [
        "chuva.shape"
      ],
      "execution_count": null,
      "outputs": []
    },
    {
      "cell_type": "code",
      "metadata": {
        "id": "sCiLF7Cy0mLc"
      },
      "source": [
        "# Análise dos tipos de atributos.\n",
        "# object: strings\n",
        "# int64: inteiros\n",
        "# float64: reais\n",
        "# complex: complexos\n",
        "chuva.dtypes"
      ],
      "execution_count": null,
      "outputs": []
    },
    {
      "cell_type": "code",
      "metadata": {
        "id": "pQzF14y13bhW"
      },
      "source": [
        "# Substituir as vírgulas por pontos\n",
        "chuva = chuva.apply(lambda x: x.str.replace(',','.'))\n",
        "chuva.head()\n",
        "# Função lambda é chamada de função anônima (simplifica a escrita da função)"
      ],
      "execution_count": null,
      "outputs": []
    },
    {
      "cell_type": "code",
      "metadata": {
        "id": "d2C2T3nK4GkC"
      },
      "source": [
        "chuva.dtypes"
      ],
      "execution_count": null,
      "outputs": []
    },
    {
      "cell_type": "code",
      "metadata": {
        "id": "nTcoHbE-6MRw"
      },
      "source": [
        "print(chuva)"
      ],
      "execution_count": null,
      "outputs": []
    },
    {
      "cell_type": "code",
      "metadata": {
        "id": "ouz1Vh2f4RI6"
      },
      "source": [
        "# Transformar variáveis categóricas em numéricas e substituir os traços pela média\n",
        "chuva['Janeiro'] =  pd.to_numeric(chuva['Janeiro'].str.replace('---', '305.79'))\n",
        "print(chuva)"
      ],
      "execution_count": null,
      "outputs": []
    },
    {
      "cell_type": "code",
      "metadata": {
        "id": "AQSVGORX8PbK"
      },
      "source": [
        "chuva.dtypes"
      ],
      "execution_count": null,
      "outputs": []
    },
    {
      "cell_type": "code",
      "metadata": {
        "id": "yEurEsSF8Szf"
      },
      "source": [
        "#Transformar variáveis categóricas em numéricas e substituir os traços pela média\n",
        "chuva['Fevereiro'] =  pd.to_numeric(chuva['Fevereiro'].str.replace('---', '249.3'))\n",
        "chuva['Março'] =  pd.to_numeric(chuva['Março'].str.replace('---', '227.97'))\n",
        "chuva['Abril'] =  pd.to_numeric(chuva['Abril'].str.replace('---', '93.64'))\n",
        "chuva['Maio'] =  pd.to_numeric(chuva['Maio'].str.replace('---', '86.67'))\n",
        "chuva['Junho'] =  pd.to_numeric(chuva['Junho'].str.replace('---', '59.66'))\n",
        "chuva['Julho'] =  pd.to_numeric(chuva['Julho'].str.replace('---', '54.6'))\n",
        "chuva['Agosto'] =  pd.to_numeric(chuva['Agosto'].str.replace('---', '27.85'))\n",
        "chuva['Setembro'] =  pd.to_numeric(chuva['Setembro'].str.replace('---', '83.8'))\n",
        "chuva['Outubro'] =  pd.to_numeric(chuva['Outubro'].str.replace('---', '139.89'))\n",
        "chuva['Novembro'] =  pd.to_numeric(chuva['Novembro'].str.replace('---', '145.04'))\n",
        "chuva['Dezembro'] =  pd.to_numeric(chuva['Dezembro'].str.replace('---', '236.04'))\n",
        "print(chuva)"
      ],
      "execution_count": null,
      "outputs": []
    },
    {
      "cell_type": "code",
      "metadata": {
        "id": "ueZAO8XL9qom"
      },
      "source": [
        "chuva.dtypes"
      ],
      "execution_count": null,
      "outputs": []
    },
    {
      "cell_type": "code",
      "metadata": {
        "id": "tibzfrFB-b5t"
      },
      "source": [
        "# Excluir as duas últimas linhas\n",
        "chuva2 = chuva.drop([36,37])\n",
        "print(chuva2)"
      ],
      "execution_count": null,
      "outputs": []
    },
    {
      "cell_type": "code",
      "metadata": {
        "id": "9moDfVjjBwm8"
      },
      "source": [
        "chuva2.to_csv('chuva_tratado.csv', index = False)"
      ],
      "execution_count": null,
      "outputs": []
    }
  ]
}